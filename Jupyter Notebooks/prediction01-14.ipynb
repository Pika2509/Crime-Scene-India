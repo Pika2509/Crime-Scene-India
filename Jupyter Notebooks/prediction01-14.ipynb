{
 "cells": [
  {
   "cell_type": "code",
   "execution_count": 1,
   "metadata": {},
   "outputs": [],
   "source": [
    "import pandas as pd\n",
    "import numpy as np\n",
    "from sklearn.model_selection import train_test_split\n",
    "import matplotlib.pyplot as plt"
   ]
  },
  {
   "cell_type": "code",
   "execution_count": 2,
   "metadata": {},
   "outputs": [],
   "source": [
    "load_dataset = pd.read_csv(\"final_dataset.csv\")\n",
    "load_dataset = load_dataset.drop(['CUSTODIAL RAPE', 'IMPORTATION OF GIRLS FROM FOREIGN COUNTRIES'], axis=1)"
   ]
  },
  {
   "cell_type": "code",
   "execution_count": 3,
   "metadata": {},
   "outputs": [],
   "source": [
    "state=[]\n",
    "for i in load_dataset['STATE/UT']:\n",
    "    if 'and' in i:\n",
    "        state.append(i)\n",
    "    elif ' ' in i:\n",
    "        temp=i.find(' ')\n",
    "        if i.count(' ')==1 and temp<len(i)-1:\n",
    "            state.append(i[0]+i[1:temp+1].lower()+i[temp+1]+i[temp+2:].lower())\n",
    "        else:\n",
    "            state.append(i)\n",
    "    else:\n",
    "        state.append(i[0]+i[1:].lower())\n",
    "\n",
    "load_dataset['STATE/UT']=state"
   ]
  },
  {
   "cell_type": "code",
   "execution_count": 4,
   "metadata": {},
   "outputs": [],
   "source": [
    "district=[]\n",
    "for i in load_dataset['DISTRICT']:\n",
    "    if 'and' in i:\n",
    "        district.append(i)\n",
    "    elif ' ' in i:\n",
    "        temp=i.find(' ')\n",
    "        if i.count(' ')==1 and temp<len(i)-1:\n",
    "            district.append(i[0]+i[1:temp+1].lower()+i[temp+1]+i[temp+2:].lower())\n",
    "        else:\n",
    "            district.append(i)\n",
    "    else:\n",
    "        district.append(i[0]+i[1:].lower())\n"
   ]
  },
  {
   "cell_type": "code",
   "execution_count": 5,
   "metadata": {},
   "outputs": [],
   "source": [
    "load_dataset['STATE/UT']=state\n",
    "load_dataset['DISTRICT']=district"
   ]
  },
  {
   "cell_type": "code",
   "execution_count": 6,
   "metadata": {},
   "outputs": [],
   "source": [
    "df = pd.DataFrame(load_dataset)\n",
    "df = df.set_index(['STATE/UT', 'DISTRICT'])"
   ]
  },
  {
   "cell_type": "code",
   "execution_count": 7,
   "metadata": {},
   "outputs": [
    {
     "name": "stdout",
     "output_type": "stream",
     "text": [
      "               YEAR  MURDER  ATTEMPT TO MURDER  \\\n",
      "DISTRICT                                         \n",
      "Adilabad       2001     101                 60   \n",
      "Anantapur      2001     151                125   \n",
      "Chittoor       2001     101                 57   \n",
      "Cuddapah       2001      80                 53   \n",
      "East Godavari  2001      82                 67   \n",
      "...             ...     ...                ...   \n",
      "Visakha Rural  2014      43                 50   \n",
      "Visakhapatnam  2014      38                 57   \n",
      "Vizianagaram   2014      43                 23   \n",
      "West Godavari  2014      90                 85   \n",
      "Total          2014    1175               1540   \n",
      "\n",
      "               CULPABLE HOMICIDE NOT AMOUNTING TO MURDER  RAPE  OTHER RAPE  \\\n",
      "DISTRICT                                                                     \n",
      "Adilabad                                              17    50          50   \n",
      "Anantapur                                              1    23          23   \n",
      "Chittoor                                               2    27          27   \n",
      "Cuddapah                                               1    20          20   \n",
      "East Godavari                                          1    23          23   \n",
      "...                                                  ...   ...         ...   \n",
      "Visakha Rural                                          4     0           0   \n",
      "Visakhapatnam                                          0     0           0   \n",
      "Vizianagaram                                           1     0           0   \n",
      "West Godavari                                          4     0           0   \n",
      "Total                                                 52     1           0   \n",
      "\n",
      "               KIDNAPPING & ABDUCTION  \\\n",
      "DISTRICT                                \n",
      "Adilabad                           46   \n",
      "Anantapur                          53   \n",
      "Chittoor                           59   \n",
      "Cuddapah                           25   \n",
      "East Godavari                      49   \n",
      "...                               ...   \n",
      "Visakha Rural                       0   \n",
      "Visakhapatnam                       0   \n",
      "Vizianagaram                        0   \n",
      "West Godavari                       0   \n",
      "Total                               0   \n",
      "\n",
      "               KIDNAPPING AND ABDUCTION OF WOMEN AND GIRLS  \\\n",
      "DISTRICT                                                     \n",
      "Adilabad                                                30   \n",
      "Anantapur                                               30   \n",
      "Chittoor                                                34   \n",
      "Cuddapah                                                20   \n",
      "East Godavari                                           26   \n",
      "...                                                    ...   \n",
      "Visakha Rural                                            0   \n",
      "Visakhapatnam                                            0   \n",
      "Vizianagaram                                             0   \n",
      "West Godavari                                            0   \n",
      "Total                                                    0   \n",
      "\n",
      "               KIDNAPPING AND ABDUCTION OF OTHERS  DACOITY  ...  \\\n",
      "DISTRICT                                                    ...   \n",
      "Adilabad                                       16        9  ...   \n",
      "Anantapur                                      23        8  ...   \n",
      "Chittoor                                       25        4  ...   \n",
      "Cuddapah                                        5        1  ...   \n",
      "East Godavari                                  23        4  ...   \n",
      "...                                           ...      ...  ...   \n",
      "Visakha Rural                                  38        0  ...   \n",
      "Visakhapatnam                                  84        0  ...   \n",
      "Vizianagaram                                   47        1  ...   \n",
      "West Godavari                                 146        1  ...   \n",
      "Total                                         961       14  ...   \n",
      "\n",
      "               COUNTERFIETING  ARSON  HURT/GREVIOUS HURT  DOWRY DEATHS  \\\n",
      "DISTRICT                                                                 \n",
      "Adilabad                    1     30                1131            16   \n",
      "Anantapur                   8     69                1543             7   \n",
      "Chittoor                    9     38                2088            14   \n",
      "Cuddapah                    2     23                 795            17   \n",
      "East Godavari               3     41                1244            12   \n",
      "...                       ...    ...                 ...           ...   \n",
      "Visakha Rural               0      5                   0             5   \n",
      "Visakhapatnam               0      4                   0            46   \n",
      "Vizianagaram                0      2                   0             4   \n",
      "West Godavari               0      4                   1            32   \n",
      "Total                       1     74                   1           433   \n",
      "\n",
      "               ASSAULT ON WOMEN WITH INTENT TO OUTRAGE HER MODESTY  \\\n",
      "DISTRICT                                                             \n",
      "Adilabad                                                     149     \n",
      "Anantapur                                                    118     \n",
      "Chittoor                                                     112     \n",
      "Cuddapah                                                     126     \n",
      "East Godavari                                                109     \n",
      "...                                                          ...     \n",
      "Visakha Rural                                                 88     \n",
      "Visakhapatnam                                                392     \n",
      "Vizianagaram                                                 176     \n",
      "West Godavari                                                468     \n",
      "Total                                                       4719     \n",
      "\n",
      "               INSULT TO MODESTY OF WOMEN  \\\n",
      "DISTRICT                                    \n",
      "Adilabad                               34   \n",
      "Anantapur                              24   \n",
      "Chittoor                               83   \n",
      "Cuddapah                               38   \n",
      "East Godavari                          58   \n",
      "...                                   ...   \n",
      "Visakha Rural                          88   \n",
      "Visakhapatnam                         334   \n",
      "Vizianagaram                            0   \n",
      "West Godavari                         359   \n",
      "Total                                3510   \n",
      "\n",
      "               CRUELTY BY HUSBAND OR HIS RELATIVES  \\\n",
      "DISTRICT                                             \n",
      "Adilabad                                       175   \n",
      "Anantapur                                      154   \n",
      "Chittoor                                       186   \n",
      "Cuddapah                                        57   \n",
      "East Godavari                                  247   \n",
      "...                                            ...   \n",
      "Visakha Rural                                    0   \n",
      "Visakhapatnam                                   58   \n",
      "Vizianagaram                                   176   \n",
      "West Godavari                                  109   \n",
      "Total                                         1209   \n",
      "\n",
      "               CAUSING DEATH BY NEGLIGENCE  OTHER IPC CRIMES  TOTAL IPC CRIMES  \n",
      "DISTRICT                                                                        \n",
      "Adilabad                               181              1518              4154  \n",
      "Anantapur                              270               754              4125  \n",
      "Chittoor                               404              1262              5818  \n",
      "Cuddapah                               233              1181              3140  \n",
      "East Godavari                          431              2313              6507  \n",
      "...                                    ...               ...               ...  \n",
      "Visakha Rural                           57               122                 0  \n",
      "Visakhapatnam                          401               957                 0  \n",
      "Vizianagaram                            92               296                 0  \n",
      "West Godavari                          353               743                 3  \n",
      "Total                                 4540             11077                59  \n",
      "\n",
      "[425 rows x 29 columns] DISTRICT\n",
      "Adilabad          101\n",
      "Anantapur         151\n",
      "Chittoor          101\n",
      "Cuddapah           80\n",
      "East Godavari      82\n",
      "                 ... \n",
      "Visakha Rural      43\n",
      "Visakhapatnam      38\n",
      "Vizianagaram       43\n",
      "West Godavari      90\n",
      "Total            1175\n",
      "Name: MURDER, Length: 425, dtype: int64\n"
     ]
    },
    {
     "name": "stderr",
     "output_type": "stream",
     "text": [
      "C:\\Users\\Admin\\AppData\\Local\\Temp/ipykernel_12268/2376313017.py:3: PerformanceWarning: indexing past lexsort depth may impact performance.\n",
      "  y = df.loc['Andhra Pradesh', 'MURDER']\n"
     ]
    }
   ],
   "source": [
    "#To get all rows for specified state/ut and it's district and split into inputs and outputs\n",
    "X = df.loc['Andhra Pradesh', :]\n",
    "y = df.loc['Andhra Pradesh', 'MURDER']\n",
    "print(X, y)"
   ]
  },
  {
   "cell_type": "code",
   "execution_count": 8,
   "metadata": {},
   "outputs": [
    {
     "name": "stdout",
     "output_type": "stream",
     "text": [
      "(284, 29) (141, 29) (284,) (141,)\n"
     ]
    }
   ],
   "source": [
    "# split into train test sets\n",
    "X_train, X_test, y_train, y_test = train_test_split(X, y, test_size=0.33, random_state=1)\n",
    "print(X_train.shape, X_test.shape, y_train.shape, y_test.shape)"
   ]
  },
  {
   "cell_type": "code",
   "execution_count": 9,
   "metadata": {},
   "outputs": [],
   "source": [
    "from sklearn.ensemble import RandomForestRegressor\n",
    "from sklearn.metrics import accuracy_score\n",
    "from sklearn.metrics import mean_absolute_error"
   ]
  },
  {
   "cell_type": "code",
   "execution_count": 10,
   "metadata": {},
   "outputs": [
    {
     "name": "stdout",
     "output_type": "stream",
     "text": [
      "MAE: 2.766\n"
     ]
    }
   ],
   "source": [
    "# fit the model\n",
    "model = RandomForestRegressor(random_state=1)\n",
    "model.fit(X_train, y_train)\n",
    "# make predictions\n",
    "yhat = model.predict(X_test)\n",
    "# evaluate predictions\n",
    "mae = mean_absolute_error(y_test, yhat)\n",
    "print('MAE: %.3f' % mae)"
   ]
  }
 ],
 "metadata": {
  "interpreter": {
   "hash": "b3ba2566441a7c06988d0923437866b63cedc61552a5af99d1f4fb67d367b25f"
  },
  "kernelspec": {
   "display_name": "Python 3.8.11 64-bit ('base': conda)",
   "name": "python3"
  },
  "language_info": {
   "codemirror_mode": {
    "name": "ipython",
    "version": 3
   },
   "file_extension": ".py",
   "mimetype": "text/x-python",
   "name": "python",
   "nbconvert_exporter": "python",
   "pygments_lexer": "ipython3",
   "version": "3.8.11"
  },
  "orig_nbformat": 4
 },
 "nbformat": 4,
 "nbformat_minor": 2
}
